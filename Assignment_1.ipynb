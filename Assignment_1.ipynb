{
 "cells": [
  {
   "cell_type": "raw",
   "id": "086ce938-98b2-42da-80aa-4c41d595b119",
   "metadata": {},
   "source": [
    "1. In the below elements which of them are values or an expression? eg:- values can be integer or string and expressions will be mathematical operators.\n",
    "* \n",
    "'hello'\n",
    "-87.8\n",
    "- \n",
    "/ \n",
    "+\t\n",
    "6 \n"
   ]
  },
  {
   "cell_type": "raw",
   "id": "f8983f00-d44f-4363-859d-1ba046eaa673",
   "metadata": {},
   "source": [
    "As per the above elements the Values are:\n",
    "    'hello'\n",
    "    -87.8\n",
    "    6\n",
    "As per the above elements the expressions are:\n",
    "    *\n",
    "    -\n",
    "    /\n",
    "    +"
   ]
  },
  {
   "cell_type": "markdown",
   "id": "7bf56ec2-1fe2-4720-b2a4-3733145e9a6f",
   "metadata": {},
   "source": [
    "2. What is the difference between string and variable?"
   ]
  },
  {
   "cell_type": "raw",
   "id": "5f2a81a6-2362-430b-bba3-3c720609e773",
   "metadata": {},
   "source": [
    "The difference between the string and variable are\n",
    "String: \n",
    "*It is a data type in Python that represents a sequence of characters. \n",
    "*They are used to store and manipulate text data.\n",
    "*They are defined by enclosing characters within single quotes (') or double quotes (\").\n",
    "                                                                \n",
    "Variable:\n",
    "*A variable is a symbolic name that is used to store and manipulate data in a program.\n",
    "*Variables are placeholders for values; they allow you to assign a name to a particular piece of data.\n",
    "*Variables can store different types of data, including strings, numbers, and other objects."
   ]
  },
  {
   "cell_type": "markdown",
   "id": "526bd82b-b85a-4254-9a01-6ffda11b7a57",
   "metadata": {},
   "source": [
    "3. Describe three different data types."
   ]
  },
  {
   "cell_type": "raw",
   "id": "9887a655-6613-4864-8086-fb00739c3403",
   "metadata": {},
   "source": [
    "Python supports a variety of data types. Here are descriptions of three different data types in Python:\n",
    "\n",
    "Integer (int): In Phyton Integer Represents whole numbers without any decimal points.\n",
    "Examples: x = 5, y = -10\n",
    "\n",
    "Float (float): In Phyton Float Represents numbers with decimal points or in exponential form.\n",
    "Examples: a = 3.14, b = 2.0e3  # 2.0 * 10^3\n",
    "\n",
    "String (str): In Phyton String Represents a sequence of characters, such as text.\n",
    "Enclosed within single quotes (') or double quotes (\").\n",
    "Examples: name = \"John\" message = 'Hello, World!'\n"
   ]
  },
  {
   "cell_type": "markdown",
   "id": "ea8cbd8e-f789-4586-a5f8-6514858e4a87",
   "metadata": {},
   "source": [
    "4. What is an expression made up of? What do all expressions do?"
   ]
  },
  {
   "cell_type": "raw",
   "id": "1a8d2be0-04c1-4c52-b9f2-baae66e226b1",
   "metadata": {},
   "source": [
    "In Python, an expression is a combination of values, variables, and operators that can be evaluated to produce a result. Expressions can include literals, variables, and operators, and they represent a computation that Python interprets and executes.\n",
    "An expression can be made up of:\n",
    "Literals: Literal values, such as numbers or strings.\n",
    "Variables: Named containers that store data.\n",
    "Operators: Symbols that perform operations on values or variables.\n",
    "Function calls: Invoking a function to perform a specific task.\n",
    "Expressions are the building blocks of Python programs, and they are used to perform computations, make decisions, and produce results. When an expression is evaluated, it produces a value. This value can be used in assignments, as part of larger expressions, or in other parts of a Python program."
   ]
  },
  {
   "cell_type": "markdown",
   "id": "8bd2315c-1e52-4543-93ed-5324f25cbe29",
   "metadata": {},
   "source": [
    "5. This assignment statements, like spam = 10. What is the difference between an expression and a statement?"
   ]
  },
  {
   "cell_type": "raw",
   "id": "030c4da4-07de-4957-a7c5-9b7036bf6159",
   "metadata": {},
   "source": [
    "Expression: An expression is a combination of literals, variables, operators, and function calls that can be evaluated to produce a value.\n",
    "It always results in a value.\n",
    "Statement: A statement is a complete line of code that performs an action. It may or may not result in a value.\n",
    "while expressions are combinations of values, variables, operators, and function calls that produce a value, statements are complete lines of code that perform actions. Assignment statements, like spam = 10, are a type of statement where a value is assigned to a variable."
   ]
  },
  {
   "cell_type": "code",
   "execution_count": 1,
   "id": "a4f19ace-8d7a-4263-984a-f50466389174",
   "metadata": {},
   "outputs": [
    {
     "data": {
      "text/plain": [
       "23"
      ]
     },
     "execution_count": 1,
     "metadata": {},
     "output_type": "execute_result"
    }
   ],
   "source": [
    "6. After running the following code, what does the variable bacon contain?\n",
    "bacon = 22\n",
    "bacon + 1\n"
   ]
  },
  {
   "cell_type": "code",
   "execution_count": 2,
   "id": "64c064ca-a53d-44b9-8e92-249bca6a419d",
   "metadata": {},
   "outputs": [
    {
     "data": {
      "text/plain": [
       "'spamspamspam'"
      ]
     },
     "execution_count": 2,
     "metadata": {},
     "output_type": "execute_result"
    }
   ],
   "source": [
    "# 7. What should the values of the following two terms be?\n",
    "'spam' + 'spamspam'\n",
    "'spam' * 3"
   ]
  },
  {
   "cell_type": "markdown",
   "id": "61b83500-edf7-4f97-a842-a4820725057e",
   "metadata": {},
   "source": [
    "8. Why is eggs a valid variable name while 100 is invalid?"
   ]
  },
  {
   "cell_type": "raw",
   "id": "30a9cdee-e473-4ade-8523-d99d3409f49e",
   "metadata": {},
   "source": [
    "In Python, variable names have certain rules and conventions that must be followed. According to the Python naming rules:\n",
    "Variable names must begin with a letter (a-z, A-Z) or an underscore (_).\n",
    "The remaining characters in the variable name can include letters, numbers, and underscores.\n",
    "Given these rules, eggs is a valid variable name because it starts with a letter (e). It doesn't violate any of the naming rules.\n",
    "On the other hand, 100 is not a valid variable name because it begins with a number (1). Variable names cannot start with a number according to Python's naming rules."
   ]
  },
  {
   "cell_type": "markdown",
   "id": "cbc07fae-973a-4bc7-85ae-3ecf90703d1d",
   "metadata": {},
   "source": [
    "9. What three functions can be used to get the integer, floating-point number, or string version of a value?"
   ]
  },
  {
   "cell_type": "raw",
   "id": "9a91bb94-1b85-4f22-a76e-bf00731a4791",
   "metadata": {},
   "source": [
    "In Python, you can use the following three functions to convert a value to an integer, a floating-point number, or a string\n",
    "int() function:\n",
    "float() function:\n",
    "str() function:\n"
   ]
  },
  {
   "cell_type": "raw",
   "id": "4071e839-af41-497d-be9a-730f9b1f29cd",
   "metadata": {},
   "source": [
    "10. Why does this expression cause an error? How can you fix it?\n",
    "'I have eaten ' + 99 + ' burritos.'\n"
   ]
  },
  {
   "cell_type": "raw",
   "id": "7cbfaddf-0b99-4023-bff1-a8f9019eed85",
   "metadata": {},
   "source": [
    "The expression 'I have eaten ' + 99 + ' burritos.' causes an error because you are trying to concatenate a string with an integer directly. In Python, when you use the + operator to concatenate strings, both operands must be strings. In this case, 99 is an integer, and you cannot concatenate it directly with strings.\n",
    "To fix this, you can convert the integer 99 to a string using the str() function before concatenating it. Here's the corrected version:\n",
    "result = 'I have eaten ' + str(99) + ' burritos.'\n"
   ]
  },
  {
   "cell_type": "code",
   "execution_count": 5,
   "id": "1ed02fe2-5a2e-41e4-9454-7f9fba997145",
   "metadata": {},
   "outputs": [
    {
     "data": {
      "text/plain": [
       "'I have eaten 99 burritos.'"
      ]
     },
     "execution_count": 5,
     "metadata": {},
     "output_type": "execute_result"
    }
   ],
   "source": [
    "'I have eaten ' + str(99) + ' burritos.'\n"
   ]
  }
 ],
 "metadata": {
  "kernelspec": {
   "display_name": "Python 3 (ipykernel)",
   "language": "python",
   "name": "python3"
  },
  "language_info": {
   "codemirror_mode": {
    "name": "ipython",
    "version": 3
   },
   "file_extension": ".py",
   "mimetype": "text/x-python",
   "name": "python",
   "nbconvert_exporter": "python",
   "pygments_lexer": "ipython3",
   "version": "3.10.6"
  }
 },
 "nbformat": 4,
 "nbformat_minor": 5
}
